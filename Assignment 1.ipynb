{
 "cells": [
  {
   "cell_type": "markdown",
   "id": "a31dc390-7535-4022-b8f3-1b0bffbb91da",
   "metadata": {},
   "source": [
    "### Deliverable 2 - Assignmnet 1: Data and Question"
   ]
  },
  {
   "cell_type": "markdown",
   "id": "6279dc01-6b8d-4a78-8730-a555dced075e",
   "metadata": {},
   "source": [
    "- Our group have decided to work on the \"Heart Disease Data Set\" from Kaggle(original from [UCI Machine Learning](https://doi.org/10.24432/C52P4X)). This dataset contains information related to heart disease diagnosis from 1988 and consists of four databases: Cleveland, Hungary, Switzerland, and Long Beach. It contains various clinical and demographic attributes of patients, for example, age, gender, cholesterol levels, and resting blood pressure results along with the “target” variable indicating the presence or absence of heart disease. The dataset contained 1025 instances/patients.\n",
    "\n",
    "- The data was collected from the four following locations:\n",
    "\n",
    "\n",
    "         1. Cleveland Clinic Foundation\n",
    "         2. Hungarian Institute of Cardiology, Budapest\n",
    "         3. V.A. Medical Center, Long Beach, CA\n",
    "         4. University Hospital, Zurich, Switzerland\n",
    "         \n",
    "- All the attributes in the data:    \n",
    "    - Age -- Integer\n",
    "    - Sex (1 = Male; 0 = Female) -- Factor\n",
    "    - Chest Pain Type (4 values) -- Factor\n",
    "    - Resting Blood Pressure (in mm Hg on admission to the hospital) -- Integer\n",
    "    - Serum Cholesterol in mg/dL -- Double\n",
    "    - Fasting Blood Sugar > 120 mg/dL (1 = True; 0 = False) -- Factor\n",
    "    - Resting Electrocardiographic Results (Values 0, 1, 2) -- Factor/Integer\n",
    "    - Maximum Heart Rate Achieved -- Integer\n",
    "    - Exercise-Induced Angina (1 = Yes; 0 = No) -- Factor\n",
    "    - Oldpeak = ST Depression Induced by Exercise Relative to Rest -- Double\n",
    "    - The Slope of the Peak Exercise ST Segment -- Integer\n",
    "    - Number of Major Vessels (0-3) Colored by Fluoroscopy -- Integer/Factor\n",
    "    - Thal: 0 = Normal; 1 = Fixed Defect; 2 = Reversible Defect -- Factor (Response Variable)"
   ]
  },
  {
   "cell_type": "markdown",
   "id": "6f9c7bb3-f9c1-46cc-80ea-294a96b600f1",
   "metadata": {},
   "source": [
    "- All the attributes in the dataset show potential associations with the response variable, which is the presence or absence of heart disease. For example, age is a well-established risk factor for heart disease, and cholesterol levels are known to influence cardiovascular health. Resting blood pressure and maximum heart rate achieved are also key physiological indicators of heart health. \n",
    "- As part of our data analysis process, we may consider the removal of certain attributes that show weak associations with the response variable. This is a common step in feature selection, particularly in the context of building a regression model. It helps streamline the model, improve its accuracy, and reduce the risk of overfitting, ensuring that our predictions are more robust.\n",
    "    \n",
    "- Research Topic: Determine the possible indicators of heart disease which will then be used to predict the presence of heart disease in patients. \n",
    "\n",
    "- Our research topic holds significant implications for healthcare. Timely identification of potential indicators of heart disease and the development of a predictive model can lead to early intervention and improved patient care. It can help reduce the burden on healthcare systems, enhance patient outcomes, and potentially save lives. By pinpointing the factors contributing to heart disease, we aim to contribute to the field of cardiovascular health and inform preventive strategies. Hopefully, we can make prediction base on patient's symptoms.\n"
   ]
  }
 ],
 "metadata": {
  "kernelspec": {
   "display_name": "R",
   "language": "R",
   "name": "ir"
  },
  "language_info": {
   "codemirror_mode": "r",
   "file_extension": ".r",
   "mimetype": "text/x-r-source",
   "name": "R",
   "pygments_lexer": "r",
   "version": "4.2.3"
  }
 },
 "nbformat": 4,
 "nbformat_minor": 5
}
