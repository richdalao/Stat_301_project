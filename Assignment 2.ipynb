{
 "cells": [
  {
   "cell_type": "code",
   "execution_count": 12,
   "id": "c94c0943-abde-4dba-982e-d3bb70ee2f58",
   "metadata": {
    "tags": []
   },
   "outputs": [
    {
     "name": "stderr",
     "output_type": "stream",
     "text": [
      "── \u001b[1mAttaching core tidyverse packages\u001b[22m ──────────────────────── tidyverse 2.0.0 ──\n",
      "\u001b[32m✔\u001b[39m \u001b[34mdplyr    \u001b[39m 1.1.3     \u001b[32m✔\u001b[39m \u001b[34mreadr    \u001b[39m 2.1.4\n",
      "\u001b[32m✔\u001b[39m \u001b[34mforcats  \u001b[39m 1.0.0     \u001b[32m✔\u001b[39m \u001b[34mstringr  \u001b[39m 1.5.0\n",
      "\u001b[32m✔\u001b[39m \u001b[34mggplot2  \u001b[39m 3.4.3     \u001b[32m✔\u001b[39m \u001b[34mtibble   \u001b[39m 3.2.1\n",
      "\u001b[32m✔\u001b[39m \u001b[34mlubridate\u001b[39m 1.9.3     \u001b[32m✔\u001b[39m \u001b[34mtidyr    \u001b[39m 1.3.0\n",
      "\u001b[32m✔\u001b[39m \u001b[34mpurrr    \u001b[39m 1.0.2     \n",
      "── \u001b[1mConflicts\u001b[22m ────────────────────────────────────────── tidyverse_conflicts() ──\n",
      "\u001b[31m✖\u001b[39m \u001b[34mdplyr\u001b[39m::\u001b[32mfilter()\u001b[39m masks \u001b[34mstats\u001b[39m::filter()\n",
      "\u001b[31m✖\u001b[39m \u001b[34mdplyr\u001b[39m::\u001b[32mlag()\u001b[39m    masks \u001b[34mstats\u001b[39m::lag()\n",
      "\u001b[36mℹ\u001b[39m Use the conflicted package (\u001b[3m\u001b[34m<http://conflicted.r-lib.org/>\u001b[39m\u001b[23m) to force all conflicts to become errors\n",
      "\n",
      "Attaching package: ‘gridExtra’\n",
      "\n",
      "\n",
      "The following object is masked from ‘package:dplyr’:\n",
      "\n",
      "    combine\n",
      "\n",
      "\n",
      "\n",
      "Attaching package: ‘mltools’\n",
      "\n",
      "\n",
      "The following object is masked from ‘package:tidyr’:\n",
      "\n",
      "    replace_na\n",
      "\n",
      "\n",
      "Loading required package: Matrix\n",
      "\n",
      "\n",
      "Attaching package: ‘Matrix’\n",
      "\n",
      "\n",
      "The following objects are masked from ‘package:tidyr’:\n",
      "\n",
      "    expand, pack, unpack\n",
      "\n",
      "\n",
      "Loaded glmnet 4.1-8\n",
      "\n",
      "\n",
      "Attaching package: ‘cowplot’\n",
      "\n",
      "\n",
      "The following object is masked from ‘package:lubridate’:\n",
      "\n",
      "    stamp\n",
      "\n",
      "\n",
      "Registered S3 method overwritten by 'GGally':\n",
      "  method from   \n",
      "  +.gg   ggplot2\n",
      "\n",
      "\n",
      "Attaching package: ‘GGally’\n",
      "\n",
      "\n",
      "The following object is masked from ‘package:faraway’:\n",
      "\n",
      "    happy\n",
      "\n",
      "\n",
      "Loading required package: car\n",
      "\n",
      "Loading required package: carData\n",
      "\n",
      "\n",
      "Attaching package: ‘car’\n",
      "\n",
      "\n",
      "The following objects are masked from ‘package:faraway’:\n",
      "\n",
      "    logit, vif\n",
      "\n",
      "\n",
      "The following object is masked from ‘package:dplyr’:\n",
      "\n",
      "    recode\n",
      "\n",
      "\n",
      "The following object is masked from ‘package:purrr’:\n",
      "\n",
      "    some\n",
      "\n",
      "\n",
      "Loading required package: lmtest\n",
      "\n",
      "Loading required package: zoo\n",
      "\n",
      "\n",
      "Attaching package: ‘zoo’\n",
      "\n",
      "\n",
      "The following objects are masked from ‘package:base’:\n",
      "\n",
      "    as.Date, as.Date.numeric\n",
      "\n",
      "\n",
      "Loading required package: sandwich\n",
      "\n",
      "Loading required package: survival\n",
      "\n",
      "\n",
      "Attaching package: ‘survival’\n",
      "\n",
      "\n",
      "The following object is masked _by_ ‘.GlobalEnv’:\n",
      "\n",
      "    heart\n",
      "\n",
      "\n",
      "The following objects are masked from ‘package:faraway’:\n",
      "\n",
      "    rats, solder\n",
      "\n",
      "\n"
     ]
    }
   ],
   "source": [
    "library(tidyverse)\n",
    "library(broom)\n",
    "library(repr)\n",
    "library(infer)\n",
    "library(gridExtra)\n",
    "library(faraway)\n",
    "library(mltools)\n",
    "library(leaps)\n",
    "library(glmnet)\n",
    "library(cowplot)\n",
    "library(GGally)\n",
    "library(AER)"
   ]
  },
  {
   "cell_type": "code",
   "execution_count": 31,
   "id": "1bc78149-de45-417f-a57a-2dea0281ee92",
   "metadata": {
    "tags": []
   },
   "outputs": [
    {
     "name": "stderr",
     "output_type": "stream",
     "text": [
      "Warning message in file(file, \"rt\"):\n",
      "“cannot open URL 'https://raw.githubusercontent.com/lavanyakandhari/Stat301-project/blob/main/heart.csv': HTTP status was '404 Not Found'”\n"
     ]
    },
    {
     "ename": "ERROR",
     "evalue": "Error in file(file, \"rt\"): cannot open the connection to 'https://raw.githubusercontent.com/lavanyakandhari/Stat301-project/blob/main/heart.csv'\n",
     "output_type": "error",
     "traceback": [
      "Error in file(file, \"rt\"): cannot open the connection to 'https://raw.githubusercontent.com/lavanyakandhari/Stat301-project/blob/main/heart.csv'\nTraceback:\n",
      "1. read.csv(heart_link, header = TRUE)",
      "2. read.table(file = file, header = header, sep = sep, quote = quote, \n .     dec = dec, fill = fill, comment.char = comment.char, ...)",
      "3. file(file, \"rt\")"
     ]
    }
   ],
   "source": [
    "heart_link <- \"https://raw.githubusercontent.com/lavanyakandhari/Stat301-project/blob/main/heart.csv\"\n",
    "\n",
    "heart <- read.csv(heart_link, header=TRUE)\n",
    "\n",
    "\n",
    "heart$sex <- as.factor(heart$sex)\n",
    "heart$fbs <- as.factor(heart$fbs)\n",
    "heart$exang <- as.factor(heart$exang)\n",
    "heart$restecg <- as.factor(heart$restecg)\n",
    "heart$thal <- as.factor(heart$thal)\n",
    "heart$restecg <- as.factor(heart$restecg)\n",
    "# heart$target <- as.factor(heart$target)\n",
    "head(heart)"
   ]
  },
  {
   "cell_type": "code",
   "execution_count": 27,
   "id": "37e46b5f-2b67-44b4-a3d9-03611f4b64dd",
   "metadata": {
    "tags": []
   },
   "outputs": [
    {
     "data": {
      "text/plain": [
       "\n",
       "Call:\n",
       "lm(formula = target ~ ., data = heart)\n",
       "\n",
       "Residuals:\n",
       "     Min       1Q   Median       3Q      Max \n",
       "-0.95948 -0.20359  0.02917  0.24048  0.94800 \n",
       "\n",
       "Coefficients:\n",
       "              Estimate Std. Error t value Pr(>|t|)    \n",
       "(Intercept)  0.3992278  0.1958520   2.038  0.04177 *  \n",
       "age         -0.0013193  0.0014159  -0.932  0.35169    \n",
       "sex1        -0.1661045  0.0266453  -6.234 6.68e-10 ***\n",
       "cp           0.1010825  0.0119920   8.429  < 2e-16 ***\n",
       "trestbps    -0.0013211  0.0006693  -1.974  0.04866 *  \n",
       "chol        -0.0004628  0.0002235  -2.071  0.03866 *  \n",
       "fbs1         0.0265739  0.0317233   0.838  0.40241    \n",
       "restecg1     0.0653312  0.0226266   2.887  0.00397 ** \n",
       "restecg2    -0.0351535  0.0930506  -0.378  0.70567    \n",
       "thalach      0.0024767  0.0005966   4.151 3.59e-05 ***\n",
       "exang1      -0.1299432  0.0271708  -4.782 1.99e-06 ***\n",
       "oldpeak     -0.0540501  0.0120698  -4.478 8.39e-06 ***\n",
       "slope        0.0577200  0.0225961   2.554  0.01078 *  \n",
       "ca          -0.0939544  0.0114311  -8.219 6.25e-16 ***\n",
       "thal1        0.1883999  0.1388187   1.357  0.17503    \n",
       "thal2        0.2841126  0.1325765   2.143  0.03235 *  \n",
       "thal3        0.0457330  0.1332640   0.343  0.73154    \n",
       "---\n",
       "Signif. codes:  0 ‘***’ 0.001 ‘**’ 0.01 ‘*’ 0.05 ‘.’ 0.1 ‘ ’ 1\n",
       "\n",
       "Residual standard error: 0.3437 on 1008 degrees of freedom\n",
       "Multiple R-squared:  0.5349,\tAdjusted R-squared:  0.5276 \n",
       "F-statistic: 72.47 on 16 and 1008 DF,  p-value: < 2.2e-16\n"
      ]
     },
     "metadata": {},
     "output_type": "display_data"
    }
   ],
   "source": [
    "reg <- lm(data=heart, target~.)\n",
    "summary(reg)"
   ]
  },
  {
   "cell_type": "code",
   "execution_count": 28,
   "id": "10fd3e3a-0b26-44b2-a15a-bc21db45a891",
   "metadata": {
    "tags": []
   },
   "outputs": [
    {
     "data": {
      "text/html": [
       "<table class=\"dataframe\">\n",
       "<caption>A matrix: 13 × 3 of type dbl</caption>\n",
       "<thead>\n",
       "\t<tr><th></th><th scope=col>GVIF</th><th scope=col>Df</th><th scope=col>GVIF^(1/(2*Df))</th></tr>\n",
       "</thead>\n",
       "<tbody>\n",
       "\t<tr><th scope=row>age</th><td>1.430</td><td>1</td><td>1.196</td></tr>\n",
       "\t<tr><th scope=row>sex</th><td>1.304</td><td>1</td><td>1.142</td></tr>\n",
       "\t<tr><th scope=row>cp</th><td>1.321</td><td>1</td><td>1.150</td></tr>\n",
       "\t<tr><th scope=row>trestbps</th><td>1.191</td><td>1</td><td>1.091</td></tr>\n",
       "\t<tr><th scope=row>chol</th><td>1.153</td><td>1</td><td>1.074</td></tr>\n",
       "\t<tr><th scope=row>fbs</th><td>1.109</td><td>1</td><td>1.053</td></tr>\n",
       "\t<tr><th scope=row>restecg</th><td>1.175</td><td>2</td><td>1.041</td></tr>\n",
       "\t<tr><th scope=row>thalach</th><td>1.633</td><td>1</td><td>1.278</td></tr>\n",
       "\t<tr><th scope=row>exang</th><td>1.430</td><td>1</td><td>1.196</td></tr>\n",
       "\t<tr><th scope=row>oldpeak</th><td>1.743</td><td>1</td><td>1.320</td></tr>\n",
       "\t<tr><th scope=row>slope</th><td>1.689</td><td>1</td><td>1.300</td></tr>\n",
       "\t<tr><th scope=row>ca</th><td>1.203</td><td>1</td><td>1.097</td></tr>\n",
       "\t<tr><th scope=row>thal</th><td>1.628</td><td>3</td><td>1.085</td></tr>\n",
       "</tbody>\n",
       "</table>\n"
      ],
      "text/latex": [
       "A matrix: 13 × 3 of type dbl\n",
       "\\begin{tabular}{r|lll}\n",
       "  & GVIF & Df & GVIF\\textasciicircum{}(1/(2*Df))\\\\\n",
       "\\hline\n",
       "\tage & 1.430 & 1 & 1.196\\\\\n",
       "\tsex & 1.304 & 1 & 1.142\\\\\n",
       "\tcp & 1.321 & 1 & 1.150\\\\\n",
       "\ttrestbps & 1.191 & 1 & 1.091\\\\\n",
       "\tchol & 1.153 & 1 & 1.074\\\\\n",
       "\tfbs & 1.109 & 1 & 1.053\\\\\n",
       "\trestecg & 1.175 & 2 & 1.041\\\\\n",
       "\tthalach & 1.633 & 1 & 1.278\\\\\n",
       "\texang & 1.430 & 1 & 1.196\\\\\n",
       "\toldpeak & 1.743 & 1 & 1.320\\\\\n",
       "\tslope & 1.689 & 1 & 1.300\\\\\n",
       "\tca & 1.203 & 1 & 1.097\\\\\n",
       "\tthal & 1.628 & 3 & 1.085\\\\\n",
       "\\end{tabular}\n"
      ],
      "text/markdown": [
       "\n",
       "A matrix: 13 × 3 of type dbl\n",
       "\n",
       "| <!--/--> | GVIF | Df | GVIF^(1/(2*Df)) |\n",
       "|---|---|---|---|\n",
       "| age | 1.430 | 1 | 1.196 |\n",
       "| sex | 1.304 | 1 | 1.142 |\n",
       "| cp | 1.321 | 1 | 1.150 |\n",
       "| trestbps | 1.191 | 1 | 1.091 |\n",
       "| chol | 1.153 | 1 | 1.074 |\n",
       "| fbs | 1.109 | 1 | 1.053 |\n",
       "| restecg | 1.175 | 2 | 1.041 |\n",
       "| thalach | 1.633 | 1 | 1.278 |\n",
       "| exang | 1.430 | 1 | 1.196 |\n",
       "| oldpeak | 1.743 | 1 | 1.320 |\n",
       "| slope | 1.689 | 1 | 1.300 |\n",
       "| ca | 1.203 | 1 | 1.097 |\n",
       "| thal | 1.628 | 3 | 1.085 |\n",
       "\n"
      ],
      "text/plain": [
       "         GVIF  Df GVIF^(1/(2*Df))\n",
       "age      1.430 1  1.196          \n",
       "sex      1.304 1  1.142          \n",
       "cp       1.321 1  1.150          \n",
       "trestbps 1.191 1  1.091          \n",
       "chol     1.153 1  1.074          \n",
       "fbs      1.109 1  1.053          \n",
       "restecg  1.175 2  1.041          \n",
       "thalach  1.633 1  1.278          \n",
       "exang    1.430 1  1.196          \n",
       "oldpeak  1.743 1  1.320          \n",
       "slope    1.689 1  1.300          \n",
       "ca       1.203 1  1.097          \n",
       "thal     1.628 3  1.085          "
      ]
     },
     "metadata": {},
     "output_type": "display_data"
    }
   ],
   "source": [
    "vif_data <- round(vif(reg),3)\n",
    "vif_data"
   ]
  },
  {
   "cell_type": "code",
   "execution_count": null,
   "id": "3168612c-cb65-4fa7-9531-91fb31f7be4a",
   "metadata": {},
   "outputs": [],
   "source": [
    "pair_plots <- heart %>% \n",
    "  select(- ) %>% \n",
    "  ggpairs(progress = FALSE) +\n",
    "  theme(\n",
    "    text = element_text(size = 15),\n",
    "    plot.title = element_text(face = \"bold\"),\n",
    "    axis.title = element_text(face = \"bold\")\n",
    "  )\n",
    "CASchools_pair_plots"
   ]
  }
 ],
 "metadata": {
  "kernelspec": {
   "display_name": "R",
   "language": "R",
   "name": "ir"
  },
  "language_info": {
   "codemirror_mode": "r",
   "file_extension": ".r",
   "mimetype": "text/x-r-source",
   "name": "R",
   "pygments_lexer": "r",
   "version": "4.2.3"
  }
 },
 "nbformat": 4,
 "nbformat_minor": 5
}
